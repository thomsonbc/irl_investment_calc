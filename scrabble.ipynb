{
 "cells": [
  {
   "cell_type": "code",
   "execution_count": 111,
   "id": "e1432a3c-3189-48b5-969b-c762ccae0979",
   "metadata": {},
   "outputs": [],
   "source": [
    "class game:\n",
    "    def __init__(self):\n",
    "        self.tiles = {'*':2,'A':9,'B':2, 'C':2,'D':4,'E':12,'F':2,'G':3,'H':2,'I':9,'J':1,'K':1,'L':4,'M':2,'N':6,'O':8,'P':2,'Q':1,'R':6,'S':4,'T':6,'U':4,'V':2,'W':2,'X':1,'Y':2,'Z':1}\n",
    "        self.scores = {'*':0,'A':1,'B':3, 'C':3,'D':2,'E':1,'F':4,'G':2,'H':4,'I':1,'J':8,'K':5,'L':1,'M':3,'N':1,'O':1,'P':3,'Q':10,'R':1,'S':1,'T':1,'U':1,'V':4,'W':4,'X':8,'Y':4,'Z':10}\n",
    "        self.double_letter = ['A4', 'A12', 'C7','C9','D1','D8','D15','G3','G7','G9','G13','H4','H12','I3','I7','I9','I13','L1','L8','L15','M7','M9','O4','O12']\n",
    "        self.double_word = ['B2','C3','D4','E5','B14','C13','D12','E11','H8','K5','L4','M3','N2','K11','L12','M13','N14']\n",
    "        self.triple_letter = ['B6','B10','F2','F6','F10','F14','J2','J6','J10','J14','N6','N10']\n",
    "        self.triple_word = ['A1','A8','A15','H1','H15','O1','O8','O15']\n",
    "        \n",
    "    def validateTile(self, tile: str) -> str:\n",
    "        tile = tile.upper()\n",
    "        if tile not in self.tiles.keys():\n",
    "            raise ValueError('Tile not valid')\n",
    "        if not self.tiles[tile]:\n",
    "            raise ValueError(f'No {tile} tiles left!')\n",
    "            \n",
    "        return tile\n",
    "    \n",
    "    def removeTile(self, tile:str) -> None:\n",
    "        tile = self.validateTile(tile)\n",
    "        if not self.tiles[tile]:\n",
    "            return f'No {tile} tiles left!'\n",
    "        tiles[tile] -= 1\n",
    "        return f'{tile} taken from bag'\n",
    "    \n",
    "    def getTileScore(self, tile: str) -> int:\n",
    "        tile = self.validateTile(tile)\n",
    "        return self.scores[tile]\n",
    "    \n",
    "    def getWordScore(self, word: str) -> int:\n",
    "        word = [self.validateTile(letter) for letter in word]\n",
    "        scores = [self.getTileScore(letter) for letter in word]\n",
    "        return sum(scores)"
   ]
  },
  {
   "cell_type": "code",
   "execution_count": 112,
   "id": "e4dacbd2-243c-4b49-b922-240d4a22cda5",
   "metadata": {},
   "outputs": [],
   "source": [
    "x = game()"
   ]
  },
  {
   "cell_type": "code",
   "execution_count": 113,
   "id": "80b46689-6e9a-44ff-ae20-4f815909ec79",
   "metadata": {},
   "outputs": [
    {
     "data": {
      "text/plain": [
       "'A'"
      ]
     },
     "execution_count": 113,
     "metadata": {},
     "output_type": "execute_result"
    }
   ],
   "source": [
    "x.validateTile('a')"
   ]
  },
  {
   "cell_type": "code",
   "execution_count": 7,
   "id": "52be496e-f4c4-40fa-94bd-91c29cba2e21",
   "metadata": {},
   "outputs": [
    {
     "data": {
      "text/plain": [
       "{'B': 4}"
      ]
     },
     "execution_count": 7,
     "metadata": {},
     "output_type": "execute_result"
    }
   ],
   "source": [
    "scrabble"
   ]
  },
  {
   "cell_type": "code",
   "execution_count": 10,
   "id": "0a1a42d1-1374-42db-8c0f-ca61fcf9ccfd",
   "metadata": {},
   "outputs": [],
   "source": [
    "x=0"
   ]
  },
  {
   "cell_type": "code",
   "execution_count": 14,
   "id": "b5123121-7991-43c2-9a8e-27efe4155aca",
   "metadata": {},
   "outputs": [
    {
     "name": "stdout",
     "output_type": "stream",
     "text": [
      "x\n"
     ]
    }
   ],
   "source": [
    "if not x:\n",
    "    print('x')"
   ]
  },
  {
   "cell_type": "code",
   "execution_count": null,
   "id": "68f11f9e-6c87-4d8a-8844-829672931248",
   "metadata": {},
   "outputs": [],
   "source": []
  }
 ],
 "metadata": {
  "kernelspec": {
   "display_name": "Python 3 (ipykernel)",
   "language": "python",
   "name": "python3"
  },
  "language_info": {
   "codemirror_mode": {
    "name": "ipython",
    "version": 3
   },
   "file_extension": ".py",
   "mimetype": "text/x-python",
   "name": "python",
   "nbconvert_exporter": "python",
   "pygments_lexer": "ipython3",
   "version": "3.8.11"
  }
 },
 "nbformat": 4,
 "nbformat_minor": 5
}
